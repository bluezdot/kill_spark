{
 "cells": [
  {
   "cell_type": "markdown",
   "id": "bd75e95c",
   "metadata": {},
   "source": [
    "# 1. Basic Function"
   ]
  },
  {
   "cell_type": "code",
   "execution_count": 11,
   "id": "80be3472",
   "metadata": {},
   "outputs": [],
   "source": [
    "import findspark\n",
    "findspark.init()\n",
    "import pyspark\n",
    "from pyspark.sql import SparkSession"
   ]
  },
  {
   "cell_type": "code",
   "execution_count": 13,
   "id": "947328cb",
   "metadata": {},
   "outputs": [
    {
     "name": "stdout",
     "output_type": "stream",
     "text": [
      "22/12/08 19:27:56 WARN Utils: Your hostname, truongpham.local resolves to a loopback address: 127.0.0.1; using 192.168.55.100 instead (on interface en0)\n",
      "22/12/08 19:27:56 WARN Utils: Set SPARK_LOCAL_IP if you need to bind to another address\n"
     ]
    },
    {
     "name": "stderr",
     "output_type": "stream",
     "text": [
      "Setting default log level to \"WARN\".\n",
      "To adjust logging level use sc.setLogLevel(newLevel). For SparkR, use setLogLevel(newLevel).\n"
     ]
    },
    {
     "name": "stdout",
     "output_type": "stream",
     "text": [
      "22/12/08 19:28:27 WARN NativeCodeLoader: Unable to load native-hadoop library for your platform... using builtin-java classes where applicable\n"
     ]
    }
   ],
   "source": [
    "spark = SparkSession.builder.appName(\"TEST\").getOrCreate()"
   ]
  },
  {
   "cell_type": "code",
   "execution_count": 14,
   "id": "0cf9e749",
   "metadata": {},
   "outputs": [
    {
     "data": {
      "text/html": [
       "\n",
       "            <div>\n",
       "                <p><b>SparkSession - in-memory</b></p>\n",
       "                \n",
       "        <div>\n",
       "            <p><b>SparkContext</b></p>\n",
       "\n",
       "            <p><a href=\"http://192.168.55.100:4040\">Spark UI</a></p>\n",
       "\n",
       "            <dl>\n",
       "              <dt>Version</dt>\n",
       "                <dd><code>v3.3.1</code></dd>\n",
       "              <dt>Master</dt>\n",
       "                <dd><code>local[*]</code></dd>\n",
       "              <dt>AppName</dt>\n",
       "                <dd><code>TEST</code></dd>\n",
       "            </dl>\n",
       "        </div>\n",
       "        \n",
       "            </div>\n",
       "        "
      ],
      "text/plain": [
       "<pyspark.sql.session.SparkSession at 0x10f3b5ed0>"
      ]
     },
     "execution_count": 14,
     "metadata": {},
     "output_type": "execute_result"
    }
   ],
   "source": [
    "spark"
   ]
  },
  {
   "cell_type": "code",
   "execution_count": 80,
   "id": "0aba7e9c",
   "metadata": {},
   "outputs": [],
   "source": [
    "df_spark = spark.read.options(delimiter=\";\", header=True).csv('test.csv')"
   ]
  },
  {
   "cell_type": "code",
   "execution_count": 81,
   "id": "30a770ee",
   "metadata": {},
   "outputs": [
    {
     "name": "stdout",
     "output_type": "stream",
     "text": [
      "+--------------+----+---+\n",
      "|           Tên|Tuổi|Exp|\n",
      "+--------------+----+---+\n",
      "|   Trường Farm|  18|  2|\n",
      "|       Lập Sec|  21|  3|\n",
      "|Hưng Fernandes|  31|  4|\n",
      "|    Nhật Johny|  12|  5|\n",
      "+--------------+----+---+\n",
      "\n"
     ]
    }
   ],
   "source": [
    "df_spark.show()"
   ]
  },
  {
   "cell_type": "code",
   "execution_count": 82,
   "id": "be565659",
   "metadata": {},
   "outputs": [
    {
     "data": {
      "text/plain": [
       "[Row(Tên='Trường Farm', Tuổi='18', Exp='2'),\n",
       " Row(Tên='Lập Sec', Tuổi='21', Exp='3')]"
      ]
     },
     "execution_count": 82,
     "metadata": {},
     "output_type": "execute_result"
    }
   ],
   "source": [
    "df_spark.head(2)"
   ]
  },
  {
   "cell_type": "code",
   "execution_count": 83,
   "id": "e958f3b6",
   "metadata": {},
   "outputs": [
    {
     "name": "stdout",
     "output_type": "stream",
     "text": [
      "root\n",
      " |-- Tên: string (nullable = true)\n",
      " |-- Tuổi: string (nullable = true)\n",
      " |-- Exp: string (nullable = true)\n",
      "\n"
     ]
    }
   ],
   "source": [
    "df_spark.printSchema()"
   ]
  },
  {
   "cell_type": "code",
   "execution_count": 84,
   "id": "0715f160",
   "metadata": {},
   "outputs": [
    {
     "data": {
      "text/plain": [
       "['Tên', 'Tuổi', 'Exp']"
      ]
     },
     "execution_count": 84,
     "metadata": {},
     "output_type": "execute_result"
    }
   ],
   "source": [
    "df_spark.columns"
   ]
  },
  {
   "cell_type": "code",
   "execution_count": 85,
   "id": "0bc20e62",
   "metadata": {},
   "outputs": [
    {
     "name": "stdout",
     "output_type": "stream",
     "text": [
      "+--------------+---+\n",
      "|           Tên|Exp|\n",
      "+--------------+---+\n",
      "|   Trường Farm|  2|\n",
      "|       Lập Sec|  3|\n",
      "|Hưng Fernandes|  4|\n",
      "|    Nhật Johny|  5|\n",
      "+--------------+---+\n",
      "\n"
     ]
    }
   ],
   "source": [
    "df_spark.select(['Tên', 'Exp']).show()"
   ]
  },
  {
   "cell_type": "code",
   "execution_count": 87,
   "id": "7e5e808f",
   "metadata": {},
   "outputs": [
    {
     "data": {
      "text/plain": [
       "[('Tên', 'string'), ('Tuổi', 'string'), ('Exp', 'string')]"
      ]
     },
     "execution_count": 87,
     "metadata": {},
     "output_type": "execute_result"
    }
   ],
   "source": [
    "df_spark.dtypes"
   ]
  },
  {
   "cell_type": "code",
   "execution_count": 88,
   "id": "dffdaa13",
   "metadata": {},
   "outputs": [
    {
     "name": "stdout",
     "output_type": "stream",
     "text": [
      "+-------+--------------+-----------------+------------------+\n",
      "|summary|           Tên|             Tuổi|               Exp|\n",
      "+-------+--------------+-----------------+------------------+\n",
      "|  count|             4|                4|                 4|\n",
      "|   mean|          null|             20.5|               3.5|\n",
      "| stddev|          null|7.937253933193772|1.2909944487358056|\n",
      "|    min|Hưng Fernandes|               12|                 2|\n",
      "|    max|   Trường Farm|               31|                 5|\n",
      "+-------+--------------+-----------------+------------------+\n",
      "\n"
     ]
    }
   ],
   "source": [
    "df_spark.describe().show()"
   ]
  },
  {
   "cell_type": "code",
   "execution_count": 91,
   "id": "b80bf67a",
   "metadata": {},
   "outputs": [
    {
     "name": "stdout",
     "output_type": "stream",
     "text": [
      "+--------------+----+---+-----------------+\n",
      "|           Tên|Tuổi|Exp|Exp After 2 Years|\n",
      "+--------------+----+---+-----------------+\n",
      "|   Trường Farm|  18|  2|            false|\n",
      "|       Lập Sec|  21|  3|             true|\n",
      "|Hưng Fernandes|  31|  4|             true|\n",
      "|    Nhật Johny|  12|  5|             true|\n",
      "+--------------+----+---+-----------------+\n",
      "\n"
     ]
    }
   ],
   "source": [
    "df_spark.withColumn('Exp After 2 Years', df_spark['Exp'] > 2).show()"
   ]
  },
  {
   "cell_type": "code",
   "execution_count": 90,
   "id": "a33e2348",
   "metadata": {},
   "outputs": [
    {
     "name": "stdout",
     "output_type": "stream",
     "text": [
      "+--------------+----+---+\n",
      "|           Tên|Tuổi|Exp|\n",
      "+--------------+----+---+\n",
      "|   Trường Farm|  18|  2|\n",
      "|       Lập Sec|  21|  3|\n",
      "|Hưng Fernandes|  31|  4|\n",
      "|    Nhật Johny|  12|  5|\n",
      "+--------------+----+---+\n",
      "\n"
     ]
    }
   ],
   "source": [
    "df_spark.show()"
   ]
  },
  {
   "cell_type": "code",
   "execution_count": 94,
   "id": "a14acb7d",
   "metadata": {},
   "outputs": [
    {
     "name": "stdout",
     "output_type": "stream",
     "text": [
      "+--------------+----+---+\n",
      "|          Name|Tuổi|Exp|\n",
      "+--------------+----+---+\n",
      "|   Trường Farm|  18|  2|\n",
      "|       Lập Sec|  21|  3|\n",
      "|Hưng Fernandes|  31|  4|\n",
      "|    Nhật Johny|  12|  5|\n",
      "+--------------+----+---+\n",
      "\n"
     ]
    }
   ],
   "source": [
    "df_spark.withColumnRenamed('Tên', 'Name').show()"
   ]
  },
  {
   "cell_type": "code",
   "execution_count": 95,
   "id": "e272b5d6",
   "metadata": {},
   "outputs": [
    {
     "name": "stdout",
     "output_type": "stream",
     "text": [
      "+----+---+\n",
      "|Tuổi|Exp|\n",
      "+----+---+\n",
      "|  18|  2|\n",
      "|  21|  3|\n",
      "|  31|  4|\n",
      "|  12|  5|\n",
      "+----+---+\n",
      "\n"
     ]
    }
   ],
   "source": [
    "df_spark.drop('Tên').show()"
   ]
  },
  {
   "cell_type": "markdown",
   "id": "8d7f49fb",
   "metadata": {},
   "source": [
    "# 2. Handle Missing Value"
   ]
  },
  {
   "cell_type": "code",
   "execution_count": null,
   "id": "1fb76ca4",
   "metadata": {},
   "outputs": [],
   "source": []
  }
 ],
 "metadata": {
  "kernelspec": {
   "display_name": "Python 3 (ipykernel)",
   "language": "python",
   "name": "python3"
  },
  "language_info": {
   "codemirror_mode": {
    "name": "ipython",
    "version": 3
   },
   "file_extension": ".py",
   "mimetype": "text/x-python",
   "name": "python",
   "nbconvert_exporter": "python",
   "pygments_lexer": "ipython3",
   "version": "3.10.8"
  }
 },
 "nbformat": 4,
 "nbformat_minor": 5
}
